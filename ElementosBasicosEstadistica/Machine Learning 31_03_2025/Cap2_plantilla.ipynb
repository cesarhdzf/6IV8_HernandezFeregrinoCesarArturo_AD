{
 "cells": [
  {
   "cell_type": "markdown",
   "metadata": {},
   "source": [
    "# Capitulo 2. Proyecto de Machine Learning"
   ]
  },
  {
   "cell_type": "markdown",
   "metadata": {},
   "source": [
    "👀: verifica que si hayas instalado las librerías que vas a necesitar"
   ]
  },
  {
   "cell_type": "markdown",
   "metadata": {},
   "source": [
    "En este caso se realizará un modelo para predecir la media de precios en las viviendas de los diferentes municipos de Londres, Reino Unido 🇬🇧."
   ]
  },
  {
   "cell_type": "markdown",
   "metadata": {},
   "source": [
    "## <span style=\"color:green\">1. Descargar los datos</span>"
   ]
  },
  {
   "cell_type": "markdown",
   "metadata": {},
   "source": [
    "Las bases de datos para este proyecto se puede encontrar en este enlace: https://www.kaggle.com/justinas/housing-in-london\n",
    "\n",
    "También se pueden consultar todas las bases de datos de este curso en GitHub:https://github.com/a2Proyectos/MachineLearning_Data\n",
    "\n",
    "- housing_in_london_yearly_variables.csv, con los datos que necesitamos para hacer la regresión.\n",
    "- London_Borough_Excluding_MHW.shp, con los datos que necesitamos para graficar Londres.\n",
    "- Capitulo_2/housing_in_london_monthly_variables.csv, con los datos de la media salarial"
   ]
  },
  {
   "cell_type": "code",
   "execution_count": 5,
   "metadata": {},
   "outputs": [],
   "source": [
    "## Importamos nuestras librerias principales panda, numpy, matplotlib, os \n",
    "import pandas as pd\n",
    "import numpy as np\n",
    "import matplotlib.pyplot as plt\n",
    "import os"
   ]
  },
  {
   "cell_type": "code",
   "execution_count": 6,
   "metadata": {},
   "outputs": [
    {
     "name": "stdout",
     "output_type": "stream",
     "text": [
      "        code                  area        date  median_salary  \\\n",
      "0  E09000001        city of london  1999-12-01        33020.0   \n",
      "1  E09000002  barking and dagenham  1999-12-01        21480.0   \n",
      "2  E09000003                barnet  1999-12-01        19568.0   \n",
      "3  E09000004                bexley  1999-12-01        18621.0   \n",
      "4  E09000005                 brent  1999-12-01        18532.0   \n",
      "\n",
      "   life_satisfaction mean_salary recycling_pct  population_size  \\\n",
      "0                NaN       48922             0           6581.0   \n",
      "1                NaN       23620             3         162444.0   \n",
      "2                NaN       23128             8         313469.0   \n",
      "3                NaN       21386            18         217458.0   \n",
      "4                NaN       20911             6         260317.0   \n",
      "\n",
      "   number_of_jobs  area_size  no_of_houses  borough_flag  \n",
      "0             NaN        NaN           NaN             1  \n",
      "1             NaN        NaN           NaN             1  \n",
      "2             NaN        NaN           NaN             1  \n",
      "3             NaN        NaN           NaN             1  \n",
      "4             NaN        NaN           NaN             1  \n"
     ]
    }
   ],
   "source": [
    "def extraer_datos(root, database): \n",
    "    csv_path = root + database \n",
    "    return pd.read_csv(csv_path) \n",
    "\n",
    "# DOWNLOAD_ROOT es la base del GitHub donde vamos a estar descargando las bases de datos.\n",
    "DOWNLOAD_ROOT = \"https://raw.githubusercontent.com/a2Proyectos/MachineLearning_Data/main/\"\n",
    "# Complementos con la dirección específica de la base de datos que queremos.\n",
    "LONDON_SALARY = \"Capitulo_2/housing_in_london_yearly_variables.csv\"\n",
    "LONDON_HOUSING = \"Capitulo_2/housing_in_london_monthly_variables.csv\"\n",
    "LONDON_MAP = os.path.abspath(\"\") + r\"\\map\\London_Borough_Excluding_MHW.shp\"\n",
    "\n",
    "# Llamada correcta a la función con los argumentos necesarios.\n",
    "datos_salary = extraer_datos(DOWNLOAD_ROOT, LONDON_SALARY)\n",
    "print(datos_salary.head())\n"
   ]
  },
  {
   "cell_type": "markdown",
   "metadata": {},
   "source": [
    "***"
   ]
  },
  {
   "cell_type": "markdown",
   "metadata": {},
   "source": [
    "## <span style=\"color:green\">2. Vistazo a la Base de Datos</span>"
   ]
  },
  {
   "cell_type": "code",
   "execution_count": 12,
   "metadata": {},
   "outputs": [],
   "source": [
    "## Juntamos nuestra base de datos de la media salarial, con la de datos de Londres.\n",
    "df1 = extraer_datos(DOWNLOAD_ROOT, LONDON_HOUSING) \n",
    "df2 = extraer_datos(DOWNLOAD_ROOT, LONDON_SALARY) \n",
    "data = pd.merge(df2,df1) \n"
   ]
  },
  {
   "cell_type": "code",
   "execution_count": 13,
   "metadata": {},
   "outputs": [],
   "source": [
    "#Filtrar los datos \n",
    "df1 = df1.filter(items=[\"median_salary\",\"area\",\"date\"]) "
   ]
  },
  {
   "cell_type": "code",
   "execution_count": 14,
   "metadata": {},
   "outputs": [
    {
     "data": {
      "text/html": [
       "<div>\n",
       "<style scoped>\n",
       "    .dataframe tbody tr th:only-of-type {\n",
       "        vertical-align: middle;\n",
       "    }\n",
       "\n",
       "    .dataframe tbody tr th {\n",
       "        vertical-align: top;\n",
       "    }\n",
       "\n",
       "    .dataframe thead th {\n",
       "        text-align: right;\n",
       "    }\n",
       "</style>\n",
       "<table border=\"1\" class=\"dataframe\">\n",
       "  <thead>\n",
       "    <tr style=\"text-align: right;\">\n",
       "      <th></th>\n",
       "      <th>code</th>\n",
       "      <th>area</th>\n",
       "      <th>date</th>\n",
       "      <th>median_salary</th>\n",
       "      <th>life_satisfaction</th>\n",
       "      <th>mean_salary</th>\n",
       "      <th>recycling_pct</th>\n",
       "      <th>population_size</th>\n",
       "      <th>number_of_jobs</th>\n",
       "      <th>area_size</th>\n",
       "      <th>no_of_houses</th>\n",
       "      <th>borough_flag</th>\n",
       "      <th>average_price</th>\n",
       "      <th>houses_sold</th>\n",
       "      <th>no_of_crimes</th>\n",
       "    </tr>\n",
       "  </thead>\n",
       "  <tbody>\n",
       "    <tr>\n",
       "      <th>0</th>\n",
       "      <td>E09000001</td>\n",
       "      <td>city of london</td>\n",
       "      <td>1999-12-01</td>\n",
       "      <td>33020.0</td>\n",
       "      <td>NaN</td>\n",
       "      <td>48922</td>\n",
       "      <td>0</td>\n",
       "      <td>6581.0</td>\n",
       "      <td>NaN</td>\n",
       "      <td>NaN</td>\n",
       "      <td>NaN</td>\n",
       "      <td>1</td>\n",
       "      <td>169309</td>\n",
       "      <td>97.0</td>\n",
       "      <td>NaN</td>\n",
       "    </tr>\n",
       "    <tr>\n",
       "      <th>1</th>\n",
       "      <td>E09000002</td>\n",
       "      <td>barking and dagenham</td>\n",
       "      <td>1999-12-01</td>\n",
       "      <td>21480.0</td>\n",
       "      <td>NaN</td>\n",
       "      <td>23620</td>\n",
       "      <td>3</td>\n",
       "      <td>162444.0</td>\n",
       "      <td>NaN</td>\n",
       "      <td>NaN</td>\n",
       "      <td>NaN</td>\n",
       "      <td>1</td>\n",
       "      <td>68812</td>\n",
       "      <td>267.0</td>\n",
       "      <td>NaN</td>\n",
       "    </tr>\n",
       "    <tr>\n",
       "      <th>2</th>\n",
       "      <td>E09000003</td>\n",
       "      <td>barnet</td>\n",
       "      <td>1999-12-01</td>\n",
       "      <td>19568.0</td>\n",
       "      <td>NaN</td>\n",
       "      <td>23128</td>\n",
       "      <td>8</td>\n",
       "      <td>313469.0</td>\n",
       "      <td>NaN</td>\n",
       "      <td>NaN</td>\n",
       "      <td>NaN</td>\n",
       "      <td>1</td>\n",
       "      <td>149510</td>\n",
       "      <td>619.0</td>\n",
       "      <td>NaN</td>\n",
       "    </tr>\n",
       "    <tr>\n",
       "      <th>3</th>\n",
       "      <td>E09000004</td>\n",
       "      <td>bexley</td>\n",
       "      <td>1999-12-01</td>\n",
       "      <td>18621.0</td>\n",
       "      <td>NaN</td>\n",
       "      <td>21386</td>\n",
       "      <td>18</td>\n",
       "      <td>217458.0</td>\n",
       "      <td>NaN</td>\n",
       "      <td>NaN</td>\n",
       "      <td>NaN</td>\n",
       "      <td>1</td>\n",
       "      <td>93905</td>\n",
       "      <td>460.0</td>\n",
       "      <td>NaN</td>\n",
       "    </tr>\n",
       "    <tr>\n",
       "      <th>4</th>\n",
       "      <td>E09000005</td>\n",
       "      <td>brent</td>\n",
       "      <td>1999-12-01</td>\n",
       "      <td>18532.0</td>\n",
       "      <td>NaN</td>\n",
       "      <td>20911</td>\n",
       "      <td>6</td>\n",
       "      <td>260317.0</td>\n",
       "      <td>NaN</td>\n",
       "      <td>NaN</td>\n",
       "      <td>NaN</td>\n",
       "      <td>1</td>\n",
       "      <td>123398</td>\n",
       "      <td>395.0</td>\n",
       "      <td>NaN</td>\n",
       "    </tr>\n",
       "  </tbody>\n",
       "</table>\n",
       "</div>"
      ],
      "text/plain": [
       "        code                  area        date  median_salary  \\\n",
       "0  E09000001        city of london  1999-12-01        33020.0   \n",
       "1  E09000002  barking and dagenham  1999-12-01        21480.0   \n",
       "2  E09000003                barnet  1999-12-01        19568.0   \n",
       "3  E09000004                bexley  1999-12-01        18621.0   \n",
       "4  E09000005                 brent  1999-12-01        18532.0   \n",
       "\n",
       "   life_satisfaction mean_salary recycling_pct  population_size  \\\n",
       "0                NaN       48922             0           6581.0   \n",
       "1                NaN       23620             3         162444.0   \n",
       "2                NaN       23128             8         313469.0   \n",
       "3                NaN       21386            18         217458.0   \n",
       "4                NaN       20911             6         260317.0   \n",
       "\n",
       "   number_of_jobs  area_size  no_of_houses  borough_flag  average_price  \\\n",
       "0             NaN        NaN           NaN             1         169309   \n",
       "1             NaN        NaN           NaN             1          68812   \n",
       "2             NaN        NaN           NaN             1         149510   \n",
       "3             NaN        NaN           NaN             1          93905   \n",
       "4             NaN        NaN           NaN             1         123398   \n",
       "\n",
       "   houses_sold  no_of_crimes  \n",
       "0         97.0           NaN  \n",
       "1        267.0           NaN  \n",
       "2        619.0           NaN  \n",
       "3        460.0           NaN  \n",
       "4        395.0           NaN  "
      ]
     },
     "execution_count": 14,
     "metadata": {},
     "output_type": "execute_result"
    }
   ],
   "source": [
    "#Fusionar los dos dataframe\n",
    "data.head() "
   ]
  },
  {
   "cell_type": "code",
   "execution_count": 10,
   "metadata": {},
   "outputs": [
    {
     "name": "stdout",
     "output_type": "stream",
     "text": [
      "<class 'pandas.core.frame.DataFrame'>\n",
      "RangeIndex: 903 entries, 0 to 902\n",
      "Data columns (total 15 columns):\n",
      " #   Column             Non-Null Count  Dtype  \n",
      "---  ------             --------------  -----  \n",
      " 0   code               903 non-null    object \n",
      " 1   area               903 non-null    object \n",
      " 2   date               903 non-null    object \n",
      " 3   median_salary      881 non-null    float64\n",
      " 4   life_satisfaction  320 non-null    float64\n",
      " 5   mean_salary        903 non-null    object \n",
      " 6   recycling_pct      820 non-null    object \n",
      " 7   population_size    860 non-null    float64\n",
      " 8   number_of_jobs     779 non-null    float64\n",
      " 9   area_size          666 non-null    float64\n",
      " 10  no_of_houses       666 non-null    float64\n",
      " 11  borough_flag       903 non-null    int64  \n",
      " 12  average_price      903 non-null    int64  \n",
      " 13  houses_sold        860 non-null    float64\n",
      " 14  no_of_crimes       617 non-null    float64\n",
      "dtypes: float64(8), int64(2), object(5)\n",
      "memory usage: 105.9+ KB\n"
     ]
    }
   ],
   "source": [
    "# Obtener información de los datos.\n",
    "data.info()"
   ]
  },
  {
   "cell_type": "markdown",
   "metadata": {},
   "source": [
    "👀:Comienza a ver el tipo de variable, de eso depende el análisis que le demos o si necesitamos cambiarlas a otro tipo de variable"
   ]
  },
  {
   "cell_type": "markdown",
   "metadata": {},
   "source": [
    "***"
   ]
  },
  {
   "cell_type": "code",
   "execution_count": 11,
   "metadata": {},
   "outputs": [
    {
     "data": {
      "text/plain": [
       "area\n",
       "city of london            21\n",
       "barking and dagenham      21\n",
       "barnet                    21\n",
       "bexley                    21\n",
       "brent                     21\n",
       "bromley                   21\n",
       "camden                    21\n",
       "croydon                   21\n",
       "ealing                    21\n",
       "enfield                   21\n",
       "greenwich                 21\n",
       "hackney                   21\n",
       "hammersmith and fulham    21\n",
       "haringey                  21\n",
       "harrow                    21\n",
       "havering                  21\n",
       "hillingdon                21\n",
       "hounslow                  21\n",
       "islington                 21\n",
       "kensington and chelsea    21\n",
       "kingston upon thames      21\n",
       "lambeth                   21\n",
       "lewisham                  21\n",
       "merton                    21\n",
       "newham                    21\n",
       "redbridge                 21\n",
       "richmond upon thames      21\n",
       "southwark                 21\n",
       "sutton                    21\n",
       "tower hamlets             21\n",
       "waltham forest            21\n",
       "wandsworth                21\n",
       "westminster               21\n",
       "north east                21\n",
       "north west                21\n",
       "east midlands             21\n",
       "west midlands             21\n",
       "london                    21\n",
       "south east                21\n",
       "south west                21\n",
       "inner london              21\n",
       "outer london              21\n",
       "england                   21\n",
       "Name: count, dtype: int64"
      ]
     },
     "execution_count": 11,
     "metadata": {},
     "output_type": "execute_result"
    }
   ],
   "source": [
    "# Una forma muy común para saber que tipo de datos contiene alguna variable de tipo objeto, es contar sus valores, ejemplo:\n",
    "data[\"area\"].value_counts() "
   ]
  },
  {
   "cell_type": "code",
   "execution_count": 16,
   "metadata": {},
   "outputs": [
    {
     "data": {
      "text/html": [
       "<div>\n",
       "<style scoped>\n",
       "    .dataframe tbody tr th:only-of-type {\n",
       "        vertical-align: middle;\n",
       "    }\n",
       "\n",
       "    .dataframe tbody tr th {\n",
       "        vertical-align: top;\n",
       "    }\n",
       "\n",
       "    .dataframe thead th {\n",
       "        text-align: right;\n",
       "    }\n",
       "</style>\n",
       "<table border=\"1\" class=\"dataframe\">\n",
       "  <thead>\n",
       "    <tr style=\"text-align: right;\">\n",
       "      <th></th>\n",
       "      <th>median_salary</th>\n",
       "      <th>life_satisfaction</th>\n",
       "      <th>population_size</th>\n",
       "      <th>number_of_jobs</th>\n",
       "      <th>area_size</th>\n",
       "      <th>no_of_houses</th>\n",
       "      <th>borough_flag</th>\n",
       "      <th>average_price</th>\n",
       "      <th>houses_sold</th>\n",
       "      <th>no_of_crimes</th>\n",
       "    </tr>\n",
       "  </thead>\n",
       "  <tbody>\n",
       "    <tr>\n",
       "      <th>count</th>\n",
       "      <td>881.00</td>\n",
       "      <td>320.00</td>\n",
       "      <td>860.00</td>\n",
       "      <td>779.00</td>\n",
       "      <td>666.00</td>\n",
       "      <td>666.00</td>\n",
       "      <td>903.00</td>\n",
       "      <td>903.00</td>\n",
       "      <td>860.00</td>\n",
       "      <td>617.00</td>\n",
       "    </tr>\n",
       "    <tr>\n",
       "      <th>mean</th>\n",
       "      <td>28,789.28</td>\n",
       "      <td>7.47</td>\n",
       "      <td>2,542,412.43</td>\n",
       "      <td>1,318,030.81</td>\n",
       "      <td>372,490.27</td>\n",
       "      <td>881,468.15</td>\n",
       "      <td>0.77</td>\n",
       "      <td>309,916.87</td>\n",
       "      <td>3,853.29</td>\n",
       "      <td>2,038.09</td>\n",
       "    </tr>\n",
       "    <tr>\n",
       "      <th>std</th>\n",
       "      <td>6,508.32</td>\n",
       "      <td>0.20</td>\n",
       "      <td>8,007,687.76</td>\n",
       "      <td>4,283,011.30</td>\n",
       "      <td>2,157,060.24</td>\n",
       "      <td>3,690,376.14</td>\n",
       "      <td>0.42</td>\n",
       "      <td>187,527.43</td>\n",
       "      <td>12,917.66</td>\n",
       "      <td>879.52</td>\n",
       "    </tr>\n",
       "    <tr>\n",
       "      <th>min</th>\n",
       "      <td>15,684.00</td>\n",
       "      <td>7.00</td>\n",
       "      <td>6,581.00</td>\n",
       "      <td>47,000.00</td>\n",
       "      <td>315.00</td>\n",
       "      <td>5,009.00</td>\n",
       "      <td>0.00</td>\n",
       "      <td>48,298.00</td>\n",
       "      <td>6.00</td>\n",
       "      <td>0.00</td>\n",
       "    </tr>\n",
       "    <tr>\n",
       "      <th>25%</th>\n",
       "      <td>24,582.00</td>\n",
       "      <td>7.34</td>\n",
       "      <td>215,899.75</td>\n",
       "      <td>87,000.00</td>\n",
       "      <td>2,960.00</td>\n",
       "      <td>87,635.50</td>\n",
       "      <td>1.00</td>\n",
       "      <td>189,287.00</td>\n",
       "      <td>246.00</td>\n",
       "      <td>1,542.00</td>\n",
       "    </tr>\n",
       "    <tr>\n",
       "      <th>50%</th>\n",
       "      <td>28,284.00</td>\n",
       "      <td>7.49</td>\n",
       "      <td>268,889.50</td>\n",
       "      <td>137,000.00</td>\n",
       "      <td>4,323.00</td>\n",
       "      <td>102,402.00</td>\n",
       "      <td>1.00</td>\n",
       "      <td>260,893.00</td>\n",
       "      <td>351.00</td>\n",
       "      <td>2,008.00</td>\n",
       "    </tr>\n",
       "    <tr>\n",
       "      <th>75%</th>\n",
       "      <td>31,589.00</td>\n",
       "      <td>7.61</td>\n",
       "      <td>359,452.25</td>\n",
       "      <td>338,000.00</td>\n",
       "      <td>8,220.00</td>\n",
       "      <td>126,276.00</td>\n",
       "      <td>1.00</td>\n",
       "      <td>387,597.00</td>\n",
       "      <td>626.00</td>\n",
       "      <td>2,402.00</td>\n",
       "    </tr>\n",
       "    <tr>\n",
       "      <th>max</th>\n",
       "      <td>61,636.00</td>\n",
       "      <td>7.96</td>\n",
       "      <td>55,977,178.00</td>\n",
       "      <td>30,493,000.00</td>\n",
       "      <td>13,303,728.00</td>\n",
       "      <td>24,172,166.00</td>\n",
       "      <td>1.00</td>\n",
       "      <td>1,364,185.00</td>\n",
       "      <td>119,458.00</td>\n",
       "      <td>7,461.00</td>\n",
       "    </tr>\n",
       "  </tbody>\n",
       "</table>\n",
       "</div>"
      ],
      "text/plain": [
       "       median_salary  life_satisfaction  population_size  number_of_jobs  \\\n",
       "count         881.00             320.00           860.00          779.00   \n",
       "mean       28,789.28               7.47     2,542,412.43    1,318,030.81   \n",
       "std         6,508.32               0.20     8,007,687.76    4,283,011.30   \n",
       "min        15,684.00               7.00         6,581.00       47,000.00   \n",
       "25%        24,582.00               7.34       215,899.75       87,000.00   \n",
       "50%        28,284.00               7.49       268,889.50      137,000.00   \n",
       "75%        31,589.00               7.61       359,452.25      338,000.00   \n",
       "max        61,636.00               7.96    55,977,178.00   30,493,000.00   \n",
       "\n",
       "          area_size  no_of_houses  borough_flag  average_price  houses_sold  \\\n",
       "count        666.00        666.00        903.00         903.00       860.00   \n",
       "mean     372,490.27    881,468.15          0.77     309,916.87     3,853.29   \n",
       "std    2,157,060.24  3,690,376.14          0.42     187,527.43    12,917.66   \n",
       "min          315.00      5,009.00          0.00      48,298.00         6.00   \n",
       "25%        2,960.00     87,635.50          1.00     189,287.00       246.00   \n",
       "50%        4,323.00    102,402.00          1.00     260,893.00       351.00   \n",
       "75%        8,220.00    126,276.00          1.00     387,597.00       626.00   \n",
       "max   13,303,728.00 24,172,166.00          1.00   1,364,185.00   119,458.00   \n",
       "\n",
       "       no_of_crimes  \n",
       "count        617.00  \n",
       "mean       2,038.09  \n",
       "std          879.52  \n",
       "min            0.00  \n",
       "25%        1,542.00  \n",
       "50%        2,008.00  \n",
       "75%        2,402.00  \n",
       "max        7,461.00  "
      ]
     },
     "execution_count": 16,
     "metadata": {},
     "output_type": "execute_result"
    }
   ],
   "source": [
    "# Una forma muy utilizada para obtener información de nuestros datos numéricos es el método describe(), ejemplo:\n",
    "pd.options.display.float_format = '{:,.2f}'.format \n",
    "data.describe()"
   ]
  },
  {
   "cell_type": "code",
   "execution_count": 17,
   "metadata": {},
   "outputs": [
    {
     "data": {
      "image/png": "[encoded data removed]",
      "text/plain": [
       "<Figure size 1500x1000 with 12 Axes>"
      ]
     },
     "metadata": {},
     "output_type": "display_data"
    }
   ],
   "source": [
    "# Realiza un Histograma para visualizar los datos \n",
    "#matplotlib inline para aquellos que estan con jupyter notebook\n",
    "%matplotlib inline \n",
    "data.hist(bins=50,figsize=(15,10)) \n",
    "plt.show() "
   ]
  },
  {
   "cell_type": "markdown",
   "metadata": {},
   "source": [
    "***"
   ]
  },
  {
   "cell_type": "markdown",
   "metadata": {},
   "source": [
    "## <span style=\"color:green\">3. Crear un set de entrenamiento y de prueba </span>"
   ]
  },
  {
   "cell_type": "markdown",
   "metadata": {},
   "source": [
    "Recuerden que nuestro set de prueba lo pondremos de lado por ahora, sin verlo. No sean tramposos ❌"
   ]
  },
  {
   "cell_type": "code",
   "execution_count": 19,
   "metadata": {},
   "outputs": [],
   "source": [
    "#Importamos la función para dividir los datos train_test_split\n",
    "from sklearn.model_selection import train_test_split "
   ]
  },
  {
   "cell_type": "code",
   "execution_count": 11,
   "metadata": {},
   "outputs": [],
   "source": [
    "# Seleccionamos por ejemplo, el 30% de los datos para el set de prueba\n",
    "#Random_state es la semilla que se usa para generar números aleatorios.\n"
   ]
  },
  {
   "cell_type": "code",
   "execution_count": 12,
   "metadata": {},
   "outputs": [],
   "source": [
    "#confirmamos la división\n"
   ]
  },
  {
   "cell_type": "markdown",
   "metadata": {},
   "source": [
    "Ya tenemos nuestro set de prueba y nuestro set de entrenamiento ✅"
   ]
  },
  {
   "cell_type": "markdown",
   "metadata": {},
   "source": [
    "***"
   ]
  },
  {
   "cell_type": "markdown",
   "metadata": {},
   "source": [
    "### <span style=\"color:blue\">3.1 Evitar Sesgo </span>"
   ]
  },
  {
   "cell_type": "code",
   "execution_count": 13,
   "metadata": {},
   "outputs": [],
   "source": [
    "# Para categorizar una variable, ejemplo con 5 niveles. \n",
    "\n",
    "                           \n",
    "#Hacer un histograma de las categorías\n"
   ]
  },
  {
   "cell_type": "code",
   "execution_count": 14,
   "metadata": {},
   "outputs": [],
   "source": [
    "#Verificar que no existen datos en el bin #1\n"
   ]
  },
  {
   "cell_type": "code",
   "execution_count": 15,
   "metadata": {},
   "outputs": [],
   "source": [
    "# Redefinir en 4 categorías, quitando en donde no hay datos (el bin#1)\n"
   ]
  },
  {
   "cell_type": "code",
   "execution_count": 16,
   "metadata": {},
   "outputs": [],
   "source": [
    "#Verifica que si se redefinieron las categorías \n"
   ]
  },
  {
   "cell_type": "code",
   "execution_count": 17,
   "metadata": {},
   "outputs": [],
   "source": [
    "## Dividir datos basándonos en nuestras categorías de salarios\n",
    "\n"
   ]
  },
  {
   "cell_type": "code",
   "execution_count": 18,
   "metadata": {},
   "outputs": [],
   "source": [
    "# Generamos nuestro objeto para que lo divida en 30% y solo haga una división\n"
   ]
  },
  {
   "cell_type": "code",
   "execution_count": 19,
   "metadata": {},
   "outputs": [],
   "source": [
    "# Creamos nuestras variables basándonos en nuestras categorías\n"
   ]
  },
  {
   "cell_type": "code",
   "execution_count": 20,
   "metadata": {},
   "outputs": [],
   "source": [
    "# Comprobación. Ya en porcentaje\n"
   ]
  },
  {
   "cell_type": "markdown",
   "metadata": {},
   "source": [
    "***"
   ]
  },
  {
   "cell_type": "code",
   "execution_count": 21,
   "metadata": {},
   "outputs": [],
   "source": [
    "# Creamos dataframe para trabajar con el set de entrenamiento\n"
   ]
  },
  {
   "cell_type": "markdown",
   "metadata": {},
   "source": [
    "***"
   ]
  },
  {
   "cell_type": "markdown",
   "metadata": {},
   "source": [
    "## <span style=\"color:green\">4. Visualizar los Datos Gráficamente </span>\n",
    "\n",
    "\n",
    "Para esto vamos a necesitar, en conjunto con nuestro dataset LONDON_MAP, una nueva libreria que se llama geopandas, el cual exteiende la libreria pandas, para trabajar con datos geoespaciales, se puede encontrar más información en: https://geopandas.org/getting_started/introduction.html"
   ]
  },
  {
   "cell_type": "code",
   "execution_count": 22,
   "metadata": {
    "scrolled": true
   },
   "outputs": [],
   "source": [
    "#Importar geopandas\n",
    "\n",
    "\n",
    "#Leer el mapa\n"
   ]
  },
  {
   "cell_type": "code",
   "execution_count": 23,
   "metadata": {},
   "outputs": [],
   "source": [
    "# Graficamos el mapa\n"
   ]
  },
  {
   "cell_type": "markdown",
   "metadata": {},
   "source": [
    "***"
   ]
  },
  {
   "cell_type": "code",
   "execution_count": 24,
   "metadata": {},
   "outputs": [],
   "source": [
    "# Ajustamos los nombres de las columnas para despúes hacer un merge.\n",
    "#utilizar lower para cambiar de mayúsculas a minúsculas \n",
    "\n",
    "\n",
    "\n",
    "#Seleccionar columnas necesarias\n"
   ]
  },
  {
   "cell_type": "markdown",
   "metadata": {},
   "source": [
    "***"
   ]
  },
  {
   "cell_type": "code",
   "execution_count": 25,
   "metadata": {},
   "outputs": [],
   "source": [
    "# Seleccionar datos de nuestro set de entrenamiento\n",
    "\n",
    "\n",
    "# Le asignamos nombre a las columnas del nuevo dataframe y reseteamos el indice\n"
   ]
  },
  {
   "cell_type": "code",
   "execution_count": 26,
   "metadata": {},
   "outputs": [],
   "source": [
    "# Combinar dtaframes\n"
   ]
  },
  {
   "cell_type": "markdown",
   "metadata": {},
   "source": [
    "***"
   ]
  },
  {
   "cell_type": "code",
   "execution_count": 27,
   "metadata": {},
   "outputs": [],
   "source": [
    "#Gráfica del promedio de los precios en las casas \n",
    "#Cuando se grafica en geopandas hay muchos argumentos, no se desesperen si no los recuerdan, es normal. \n"
   ]
  },
  {
   "cell_type": "markdown",
   "metadata": {},
   "source": [
    "💸: Recuerden que los precios son mayores en el centro de la cuidad"
   ]
  },
  {
   "cell_type": "code",
   "execution_count": 28,
   "metadata": {},
   "outputs": [],
   "source": [
    "#Graficar ahora el total de las casa vendidas (utilizar el código anterior para no repetir)\n"
   ]
  },
  {
   "cell_type": "markdown",
   "metadata": {},
   "source": [
    "**Ejercicio:** Incluir en el análisis los salarios promedio por zona (apoyarse del video 21)"
   ]
  },
  {
   "cell_type": "markdown",
   "metadata": {},
   "source": [
    "***"
   ]
  },
  {
   "cell_type": "markdown",
   "metadata": {},
   "source": [
    "## <span style=\"color:green\">5. Medir la Correlación </span>\n"
   ]
  },
  {
   "cell_type": "code",
   "execution_count": 29,
   "metadata": {},
   "outputs": [],
   "source": [
    "# Crear matriz de correlación\n",
    "\n",
    "\n",
    "# Comparar correlación\n"
   ]
  },
  {
   "cell_type": "code",
   "execution_count": 30,
   "metadata": {},
   "outputs": [],
   "source": [
    "#Importar seaborn \n",
    "\n",
    "\n",
    "# Crear vector\n",
    "\n",
    "\n",
    "# Graficar\n"
   ]
  },
  {
   "cell_type": "code",
   "execution_count": 31,
   "metadata": {},
   "outputs": [],
   "source": [
    "#Importar pandas \n",
    "\n",
    "\n",
    "#Para graficar scatter_matrix...\n"
   ]
  },
  {
   "cell_type": "code",
   "execution_count": 32,
   "metadata": {},
   "outputs": [],
   "source": [
    "#Por si quieren ver una gráfica en específico más a detalle\n"
   ]
  },
  {
   "cell_type": "markdown",
   "metadata": {},
   "source": [
    "***"
   ]
  },
  {
   "cell_type": "markdown",
   "metadata": {},
   "source": [
    "## <span style=\"color:green\">6. Combinación de Variables </span>\n"
   ]
  },
  {
   "cell_type": "code",
   "execution_count": 33,
   "metadata": {},
   "outputs": [],
   "source": [
    "#Armar una columna para hacer las combinaciones que necesitamos\n",
    "\n",
    "# Crear matriz de correlación\n"
   ]
  },
  {
   "cell_type": "markdown",
   "metadata": {},
   "source": [
    "***"
   ]
  },
  {
   "cell_type": "markdown",
   "metadata": {},
   "source": [
    "***"
   ]
  },
  {
   "cell_type": "markdown",
   "metadata": {},
   "source": [
    "## <span style=\"color:Blue\">7. Transformación de Datos </span>\n"
   ]
  },
  {
   "cell_type": "code",
   "execution_count": 34,
   "metadata": {},
   "outputs": [],
   "source": [
    "# Crear Dataframe de predictores y variable a predecir ✂️\n",
    "\n",
    "#Nuevo dataframe sin average_price\n"
   ]
  },
  {
   "cell_type": "markdown",
   "metadata": {},
   "source": [
    "***"
   ]
  },
  {
   "cell_type": "code",
   "execution_count": 35,
   "metadata": {},
   "outputs": [],
   "source": [
    "#Darte una idea de a qué variables le hace faltan datos\n",
    "\n",
    "#Calcular la suma de todos los vacíos  \n"
   ]
  },
  {
   "cell_type": "code",
   "execution_count": 36,
   "metadata": {},
   "outputs": [],
   "source": [
    "#Quitar el número de crímenes por su alta cantidad de datos vacíos \n"
   ]
  },
  {
   "cell_type": "code",
   "execution_count": 37,
   "metadata": {},
   "outputs": [],
   "source": [
    "#Tomamos la media \n",
    "\n",
    "#Llenamos los valores con la media\n",
    "\n",
    "#Verifica que no hay datos vacíos\n"
   ]
  },
  {
   "cell_type": "markdown",
   "metadata": {},
   "source": [
    "***"
   ]
  },
  {
   "cell_type": "markdown",
   "metadata": {},
   "source": [
    "Recuerden que volvimos a ejecutar la línea de código de \"df = cat_set_ent.drop('average_price', axis=1)\" para hacer este ejercicio"
   ]
  },
  {
   "cell_type": "code",
   "execution_count": 38,
   "metadata": {},
   "outputs": [],
   "source": [
    "#BIENVENIDOS A SCIKIT <3 Serán unos expertos al final. \n",
    "# Rellenar valores con scikit\n",
    "#1. Recuerden: importar lo que vayas a utiliza, en este caso SimpleImputer\n",
    "\n",
    "\n",
    "# 2. Crear objeto, en este caso se llamará imputer\n",
    "\n",
    "\n",
    "\n",
    "# data numérico\n",
    "\n",
    "\n",
    "#Ejecuta Imputer\n",
    "\n",
    "\n",
    "#Aplicar transform para rellenar las medianas \n",
    "\n",
    "\n",
    "#Regresarlo a dataframe \n"
   ]
  },
  {
   "cell_type": "markdown",
   "metadata": {},
   "source": [
    "***"
   ]
  },
  {
   "cell_type": "markdown",
   "metadata": {},
   "source": [
    "## <span style=\"color:Blue\">8. Manejo de texto y valores categóricos </span>"
   ]
  },
  {
   "cell_type": "code",
   "execution_count": 39,
   "metadata": {},
   "outputs": [],
   "source": [
    "#definir que variable vamos a cambiar a valor numérico\n",
    "\n",
    "#Convertir variables de texto en numéricas\n",
    "\n",
    "#verificar que si se haya transformado\n",
    "\n",
    "\n",
    "#Por si quieres ver como funciona el encoder\n"
   ]
  },
  {
   "cell_type": "code",
   "execution_count": 40,
   "metadata": {},
   "outputs": [],
   "source": [
    "#ONE HOT ENCODER, es importante recordar y entender esta función porque la usaremos en todo el curso\n",
    "#Convertir variables categóricas en binarias\n",
    "#Importar OneHotEncoder\n",
    "\n",
    "#Crear objeto\n",
    "\n",
    "#Ajustar\n",
    "\n",
    "#obligar a que nos muestre la matriz \n"
   ]
  },
  {
   "cell_type": "markdown",
   "metadata": {},
   "source": [
    "***"
   ]
  },
  {
   "cell_type": "markdown",
   "metadata": {},
   "source": [
    "## <span style=\"color:Blue\">9. Escalación de variables </span>\n"
   ]
  },
  {
   "cell_type": "markdown",
   "metadata": {},
   "source": [
    "#### <span style=\"color:Blue\">9.1 Normalización </span>"
   ]
  },
  {
   "cell_type": "code",
   "execution_count": 41,
   "metadata": {},
   "outputs": [],
   "source": [
    "#Importar MinMaxScaler\n",
    "\n",
    "#Creamos el objeto \n",
    "\n",
    "#Hacer un dataframe con la transformación\n"
   ]
  },
  {
   "cell_type": "markdown",
   "metadata": {},
   "source": [
    "#### <span style=\"color:Blue\">9.2 Estandarización </span>"
   ]
  },
  {
   "cell_type": "code",
   "execution_count": 42,
   "metadata": {},
   "outputs": [],
   "source": [
    "## Estandarización (Es el más ultizado)\n",
    "#Importar StandardScaler (presten especial atención a StandardScaler lo estaremos viendo muy seguido) \n",
    "\n",
    "#Crea objeto\n",
    "\n",
    "#Hacer un dataframe con la transformación\n"
   ]
  },
  {
   "cell_type": "markdown",
   "metadata": {},
   "source": [
    "***"
   ]
  },
  {
   "cell_type": "markdown",
   "metadata": {},
   "source": [
    "## <span style=\"color:Blue\">10. Pipeline </span>\n"
   ]
  },
  {
   "cell_type": "code",
   "execution_count": 43,
   "metadata": {},
   "outputs": [],
   "source": [
    "# Crear función de pipeline\n"
   ]
  },
  {
   "cell_type": "code",
   "execution_count": 44,
   "metadata": {},
   "outputs": [],
   "source": [
    "# Column Transformer (nos permite transformar varias columnas al mismo tiempo y luego juntarlas)\n",
    "\n",
    "#Hacer un datframe que usaremos para la regresión linea\n",
    "\n",
    "#Visualiza los datos \n"
   ]
  },
  {
   "cell_type": "markdown",
   "metadata": {},
   "source": [
    "***"
   ]
  },
  {
   "cell_type": "markdown",
   "metadata": {},
   "source": [
    "***"
   ]
  },
  {
   "cell_type": "markdown",
   "metadata": {},
   "source": [
    "## <span style=\"color:purple\">11. Seleccionar y entrenar modelos </span>"
   ]
  },
  {
   "cell_type": "code",
   "execution_count": 45,
   "metadata": {},
   "outputs": [],
   "source": [
    "## Hacer Regresión Lineal (AL FIN)\n"
   ]
  },
  {
   "cell_type": "code",
   "execution_count": 46,
   "metadata": {},
   "outputs": [],
   "source": [
    "#Análisis preambultario de los errores\n"
   ]
  },
  {
   "cell_type": "markdown",
   "metadata": {},
   "source": [
    "***"
   ]
  },
  {
   "cell_type": "markdown",
   "metadata": {},
   "source": [
    "#### <span style=\"color:purple\">11.1 RMSE </span>"
   ]
  },
  {
   "cell_type": "code",
   "execution_count": 47,
   "metadata": {},
   "outputs": [],
   "source": [
    "# Calcular el promedio de la suma de los errores al cuadrado RMSE\n"
   ]
  },
  {
   "cell_type": "code",
   "execution_count": 48,
   "metadata": {},
   "outputs": [],
   "source": [
    "#Sacar el promedio \n"
   ]
  },
  {
   "cell_type": "code",
   "execution_count": 49,
   "metadata": {},
   "outputs": [],
   "source": [
    "#Calcular el porcentaje de acierto\n"
   ]
  },
  {
   "cell_type": "markdown",
   "metadata": {},
   "source": [
    "***"
   ]
  },
  {
   "cell_type": "markdown",
   "metadata": {},
   "source": [
    "#### <span style=\"color:purple\">11.2 Árbol de Decisión </span>"
   ]
  },
  {
   "cell_type": "code",
   "execution_count": 50,
   "metadata": {},
   "outputs": [],
   "source": [
    "# importar DecisionTreeRegressor\n",
    "\n",
    "#crear objeto \n",
    "\n",
    "#correrlo\n",
    "\n",
    "\n",
    "#calcular el error\n"
   ]
  },
  {
   "cell_type": "markdown",
   "metadata": {},
   "source": [
    "***"
   ]
  },
  {
   "cell_type": "markdown",
   "metadata": {},
   "source": [
    "#### <span style=\"color:purple\">11.3 Validación Cruzada </span>\n",
    "\n",
    "¡Anota esto porque es importante!"
   ]
  },
  {
   "cell_type": "code",
   "execution_count": 51,
   "metadata": {},
   "outputs": [],
   "source": [
    "#Importar cross_val_score, creo objeto, corro mi función\n"
   ]
  },
  {
   "cell_type": "code",
   "execution_count": 52,
   "metadata": {},
   "outputs": [],
   "source": [
    "#Calcular el porcentaje de acierto de validación cruzada \n"
   ]
  },
  {
   "cell_type": "markdown",
   "metadata": {},
   "source": [
    "***"
   ]
  },
  {
   "cell_type": "markdown",
   "metadata": {},
   "source": [
    "#### <span style=\"color:purple\">11.4 Bosque Aleatorio </span>\n",
    "¡Este también es importante!"
   ]
  },
  {
   "cell_type": "code",
   "execution_count": 53,
   "metadata": {},
   "outputs": [],
   "source": [
    "#Importar RandomForestRegressor, creo objeto, corro mi función\n",
    "\n",
    "\n",
    "#calcular el error\n"
   ]
  },
  {
   "cell_type": "code",
   "execution_count": 54,
   "metadata": {},
   "outputs": [],
   "source": [
    "#Calcular el el promedio de la suma de los errores al cuadrado\n"
   ]
  },
  {
   "cell_type": "code",
   "execution_count": 55,
   "metadata": {},
   "outputs": [],
   "source": [
    "#Calcular el porcentaje de acierto de bosque aleatorio\n"
   ]
  },
  {
   "cell_type": "markdown",
   "metadata": {},
   "source": [
    "***"
   ]
  },
  {
   "cell_type": "markdown",
   "metadata": {},
   "source": [
    "## <span style=\"color:purple\">12. Afinar el modelo </span>"
   ]
  },
  {
   "cell_type": "markdown",
   "metadata": {},
   "source": [
    "### <span style=\"color:purple\">12.1 Grid Search</span>"
   ]
  },
  {
   "cell_type": "code",
   "execution_count": 56,
   "metadata": {},
   "outputs": [],
   "source": [
    "#Importar GridSearchCV\n"
   ]
  },
  {
   "cell_type": "markdown",
   "metadata": {},
   "source": [
    "### <span style=\"color:purple\">12.2 set de prueba</span>"
   ]
  },
  {
   "cell_type": "code",
   "execution_count": 57,
   "metadata": {},
   "outputs": [],
   "source": [
    "#¡AHORA SI! A utilizar el set de prueba. Es la última parte \n",
    "\n",
    "#Define cuál es el modelo final \n",
    "\n",
    "\n",
    "#Aquí definimos cuál será nuestra variable a predecir y las predichas \n",
    "\n",
    "\n",
    "\n",
    "#Ahora, sí. El pipeline para limpieza de datos \n",
    "\n",
    "\n",
    "\n",
    "#Por último, ver el error del modelo \n"
   ]
  },
  {
   "cell_type": "code",
   "execution_count": 58,
   "metadata": {},
   "outputs": [],
   "source": [
    "#Ver el porcentaje de acierto\n"
   ]
  }
 ],
 "metadata": {
  "kernelspec": {
   "display_name": "Python 3",
   "language": "python",
   "name": "python3"
  },
  "language_info": {
   "codemirror_mode": {
    "name": "ipython",
    "version": 3
   },
   "file_extension": ".py",
   "mimetype": "text/x-python",
   "name": "python",
   "nbconvert_exporter": "python",
   "pygments_lexer": "ipython3",
   "version": "3.13.2"
  }
 },
 "nbformat": 4,
 "nbformat_minor": 4
}
